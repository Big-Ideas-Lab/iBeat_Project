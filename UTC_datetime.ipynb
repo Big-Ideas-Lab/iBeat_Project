{
 "cells": [
  {
   "cell_type": "code",
   "execution_count": 1,
   "metadata": {
    "scrolled": false
   },
   "outputs": [],
   "source": [
    "import pandas as pd\n",
    "import datetime\n",
    "import matplotlib.pyplot as plt\n",
    "import numpy as np\n",
    "from biosppy.signals import ecg\n",
    "import os\n",
    "import neurokit as nk"
   ]
  },
  {
   "cell_type": "code",
   "execution_count": 2,
   "metadata": {
    "scrolled": false
   },
   "outputs": [
    {
     "data": {
      "text/plain": [
       "'2018-05-23 16:46:20'"
      ]
     },
     "execution_count": 2,
     "metadata": {},
     "output_type": "execute_result"
    }
   ],
   "source": [
    "datetime.datetime.fromtimestamp(1527108380).strftime(\"%Y-%m-%d %H:%M:%S\")"
   ]
  },
  {
   "cell_type": "markdown",
   "metadata": {},
   "source": [
    "# Read ECG data"
   ]
  },
  {
   "cell_type": "code",
   "execution_count": 11,
   "metadata": {},
   "outputs": [],
   "source": [
    "ecg_data_file = 'D:\\data\\ibeat\\eplab\\Subject42_data.hdf'\n",
    "ecg_data = pd.read_hdf(ecg_data_file, 'eplab')"
   ]
  },
  {
   "cell_type": "markdown",
   "metadata": {},
   "source": [
    "#ecg_data.columns\n",
    "#only remains 'section', 'utc', 'utc_adjusted', 'date', 'II' for now.\n",
    "\n",
    "ecg_data = ecg_data.drop(columns = ['ABL', 'ABL d', 'CS 1,2', 'CS 3,4', 'CS 5,6', 'CS 7,8', 'CS 9,10', \n",
    "        'Duo 1,2', 'Duo 11,12', 'Duo 13,14', 'Duo 15,16', 'Duo 17,18',\n",
    "       'Duo 19,20', 'Duo 3,4', 'Duo 5,6', 'Duo 7,8', 'Duo 9,10', 'HIS d',\n",
    "       'HIS m', 'HIS p', 'HRA', 'HRA d', 'I', 'III', 'RVa', 'RVa d',\n",
    "       'Spiral 11,12', 'Spiral 13,14', 'Spiral 7,8', 'Spiral 9.10',\n",
    "       'Spirlal 5,6', 'Stim 1', 'V1', 'V2', 'V3', 'V4', 'V5', 'V6', 'aVF',\n",
    "       'aVL', 'aVR'])"
   ]
  },
  {
   "cell_type": "markdown",
   "metadata": {},
   "source": [
    "# UTC to datetime (patient No. 42-51 checked) "
   ]
  },
  {
   "cell_type": "code",
   "execution_count": 4,
   "metadata": {
    "scrolled": true
   },
   "outputs": [
    {
     "data": {
      "text/html": [
       "<div>\n",
       "<style scoped>\n",
       "    .dataframe tbody tr th:only-of-type {\n",
       "        vertical-align: middle;\n",
       "    }\n",
       "\n",
       "    .dataframe tbody tr th {\n",
       "        vertical-align: top;\n",
       "    }\n",
       "\n",
       "    .dataframe thead th {\n",
       "        text-align: right;\n",
       "    }\n",
       "</style>\n",
       "<table border=\"1\" class=\"dataframe\">\n",
       "  <thead>\n",
       "    <tr style=\"text-align: right;\">\n",
       "      <th></th>\n",
       "      <th>I</th>\n",
       "      <th>II</th>\n",
       "      <th>III</th>\n",
       "      <th>aVR</th>\n",
       "      <th>aVL</th>\n",
       "      <th>aVF</th>\n",
       "      <th>V1</th>\n",
       "      <th>V2</th>\n",
       "      <th>V3</th>\n",
       "      <th>V4</th>\n",
       "      <th>V5</th>\n",
       "      <th>V6</th>\n",
       "      <th>utc</th>\n",
       "      <th>section</th>\n",
       "      <th>utc_adjusted</th>\n",
       "      <th>date</th>\n",
       "    </tr>\n",
       "  </thead>\n",
       "  <tbody>\n",
       "    <tr>\n",
       "      <th>0</th>\n",
       "      <td>0.043</td>\n",
       "      <td>0.030</td>\n",
       "      <td>0.09</td>\n",
       "      <td>-0.143</td>\n",
       "      <td>-0.022</td>\n",
       "      <td>0.090</td>\n",
       "      <td>0.193</td>\n",
       "      <td>0.1</td>\n",
       "      <td>0.118</td>\n",
       "      <td>0.045</td>\n",
       "      <td>0.128</td>\n",
       "      <td>0.03</td>\n",
       "      <td>1.526570e+09</td>\n",
       "      <td>0.0</td>\n",
       "      <td>1.526570e+09</td>\n",
       "      <td>2018-05-17 11:19:12</td>\n",
       "    </tr>\n",
       "    <tr>\n",
       "      <th>1</th>\n",
       "      <td>0.037</td>\n",
       "      <td>0.028</td>\n",
       "      <td>0.09</td>\n",
       "      <td>-0.147</td>\n",
       "      <td>-0.020</td>\n",
       "      <td>0.088</td>\n",
       "      <td>0.198</td>\n",
       "      <td>0.1</td>\n",
       "      <td>0.120</td>\n",
       "      <td>0.045</td>\n",
       "      <td>0.128</td>\n",
       "      <td>0.03</td>\n",
       "      <td>1.526570e+09</td>\n",
       "      <td>0.0</td>\n",
       "      <td>1.526570e+09</td>\n",
       "      <td>2018-05-17 11:19:12</td>\n",
       "    </tr>\n",
       "  </tbody>\n",
       "</table>\n",
       "</div>"
      ],
      "text/plain": [
       "       I     II   III    aVR    aVL    aVF     V1   V2     V3     V4     V5  \\\n",
       "0  0.043  0.030  0.09 -0.143 -0.022  0.090  0.193  0.1  0.118  0.045  0.128   \n",
       "1  0.037  0.028  0.09 -0.147 -0.020  0.088  0.198  0.1  0.120  0.045  0.128   \n",
       "\n",
       "     V6           utc  section  utc_adjusted                 date  \n",
       "0  0.03  1.526570e+09      0.0  1.526570e+09  2018-05-17 11:19:12  \n",
       "1  0.03  1.526570e+09      0.0  1.526570e+09  2018-05-17 11:19:12  "
      ]
     },
     "execution_count": 4,
     "metadata": {},
     "output_type": "execute_result"
    }
   ],
   "source": [
    "def adj(i):\n",
    "    date = datetime.datetime.fromtimestamp(i).strftime(\"%Y-%m-%d %H:%M:%S\")\n",
    "    return date\n",
    "ecg_data['date']=ecg_data['utc_adjusted'].apply(adj)\n",
    "ecg_data.head(2)"
   ]
  },
  {
   "cell_type": "code",
   "execution_count": 10,
   "metadata": {
    "scrolled": false
   },
   "outputs": [
    {
     "data": {
      "text/html": [
       "<div>\n",
       "<style scoped>\n",
       "    .dataframe tbody tr th:only-of-type {\n",
       "        vertical-align: middle;\n",
       "    }\n",
       "\n",
       "    .dataframe tbody tr th {\n",
       "        vertical-align: top;\n",
       "    }\n",
       "\n",
       "    .dataframe thead th {\n",
       "        text-align: right;\n",
       "    }\n",
       "</style>\n",
       "<table border=\"1\" class=\"dataframe\">\n",
       "  <thead>\n",
       "    <tr style=\"text-align: right;\">\n",
       "      <th></th>\n",
       "      <th>I</th>\n",
       "      <th>II</th>\n",
       "      <th>III</th>\n",
       "      <th>aVR</th>\n",
       "      <th>aVL</th>\n",
       "      <th>aVF</th>\n",
       "      <th>V1</th>\n",
       "      <th>V2</th>\n",
       "      <th>V3</th>\n",
       "      <th>V4</th>\n",
       "      <th>V5</th>\n",
       "      <th>V6</th>\n",
       "      <th>utc</th>\n",
       "      <th>section</th>\n",
       "      <th>utc_adjusted</th>\n",
       "      <th>date</th>\n",
       "    </tr>\n",
       "  </thead>\n",
       "  <tbody>\n",
       "    <tr>\n",
       "      <th>15560702</th>\n",
       "      <td>-0.067</td>\n",
       "      <td>-0.093</td>\n",
       "      <td>0.011</td>\n",
       "      <td>0.048</td>\n",
       "      <td>-0.044</td>\n",
       "      <td>-0.030</td>\n",
       "      <td>0.063</td>\n",
       "      <td>-0.020</td>\n",
       "      <td>-0.017</td>\n",
       "      <td>-0.067</td>\n",
       "      <td>-0.042</td>\n",
       "      <td>-0.067</td>\n",
       "      <td>1.526593e+09</td>\n",
       "      <td>5.0</td>\n",
       "      <td>1.526593e+09</td>\n",
       "      <td>2018-05-17 17:35:25</td>\n",
       "    </tr>\n",
       "    <tr>\n",
       "      <th>15560703</th>\n",
       "      <td>-0.072</td>\n",
       "      <td>-0.093</td>\n",
       "      <td>0.013</td>\n",
       "      <td>0.048</td>\n",
       "      <td>-0.041</td>\n",
       "      <td>-0.033</td>\n",
       "      <td>0.066</td>\n",
       "      <td>-0.022</td>\n",
       "      <td>-0.018</td>\n",
       "      <td>-0.068</td>\n",
       "      <td>-0.043</td>\n",
       "      <td>-0.066</td>\n",
       "      <td>1.526593e+09</td>\n",
       "      <td>5.0</td>\n",
       "      <td>1.526593e+09</td>\n",
       "      <td>2018-05-17 17:35:25</td>\n",
       "    </tr>\n",
       "  </tbody>\n",
       "</table>\n",
       "</div>"
      ],
      "text/plain": [
       "              I     II    III    aVR    aVL    aVF     V1     V2     V3  \\\n",
       "15560702 -0.067 -0.093  0.011  0.048 -0.044 -0.030  0.063 -0.020 -0.017   \n",
       "15560703 -0.072 -0.093  0.013  0.048 -0.041 -0.033  0.066 -0.022 -0.018   \n",
       "\n",
       "             V4     V5     V6           utc  section  utc_adjusted  \\\n",
       "15560702 -0.067 -0.042 -0.067  1.526593e+09      5.0  1.526593e+09   \n",
       "15560703 -0.068 -0.043 -0.066  1.526593e+09      5.0  1.526593e+09   \n",
       "\n",
       "                         date  \n",
       "15560702  2018-05-17 17:35:25  \n",
       "15560703  2018-05-17 17:35:25  "
      ]
     },
     "execution_count": 10,
     "metadata": {},
     "output_type": "execute_result"
    }
   ],
   "source": [
    "# end time\n",
    "ecg_data.tail(2)"
   ]
  },
  {
   "cell_type": "code",
   "execution_count": 6,
   "metadata": {},
   "outputs": [],
   "source": [
    "#store the datetime column to \n",
    "#ecg_data.to_hdf('D:\\data\\ibeat\\eplab\\Subject66_data.hdf',key = 'ecg_data')"
   ]
  },
  {
   "cell_type": "markdown",
   "metadata": {},
   "source": [
    "# Batch processing to transfer the utc to date"
   ]
  },
  {
   "cell_type": "markdown",
   "metadata": {},
   "source": [
    "os.chdir('D:\\data\\ibeat\\eplab')\n",
    "file_name = os.listdir('D:\\data\\ibeat\\eplab')\n",
    "for file in file_name:\n",
    "    ecg_data_file = 'D:\\data\\ibeat\\eplab'\n",
    "    ecg_data = pd.read_hdf(ecg_data_file, 'eplab')"
   ]
  },
  {
   "cell_type": "markdown",
   "metadata": {},
   "source": [
    "# Analysis and plot  of ECG signals"
   ]
  },
  {
   "cell_type": "code",
   "execution_count": 10,
   "metadata": {},
   "outputs": [],
   "source": [
    "#cut ecg data\n",
    "ecg_data = ecg_data[(ecg_data['utc_adjusted']> 1527108380) & (ecg_data['utc_adjusted']<1527108473)]"
   ]
  },
  {
   "cell_type": "code",
   "execution_count": 3,
   "metadata": {
    "scrolled": true
   },
   "outputs": [
    {
     "name": "stdout",
     "output_type": "stream",
     "text": [
      "Analyzing 4 chunks\n"
     ]
    },
    {
     "name": "stderr",
     "output_type": "stream",
     "text": [
      "C:\\Users\\imapi\\Anaconda3\\lib\\site-packages\\scipy\\signal\\_arraytools.py:45: FutureWarning: Using a non-tuple sequence for multidimensional indexing is deprecated; use `arr[tuple(seq)]` instead of `arr[seq]`. In the future this will be interpreted as an array index, `arr[np.array(seq)]`, which will result either in an error or a different result.\n",
      "  b = a[a_slice]\n",
      "C:\\Users\\imapi\\Anaconda3\\lib\\site-packages\\scipy\\signal\\signaltools.py:1341: FutureWarning: Using a non-tuple sequence for multidimensional indexing is deprecated; use `arr[tuple(seq)]` instead of `arr[seq]`. In the future this will be interpreted as an array index, `arr[np.array(seq)]`, which will result either in an error or a different result.\n",
      "  out_full[ind] += zi\n",
      "C:\\Users\\imapi\\Anaconda3\\lib\\site-packages\\scipy\\signal\\signaltools.py:1344: FutureWarning: Using a non-tuple sequence for multidimensional indexing is deprecated; use `arr[tuple(seq)]` instead of `arr[seq]`. In the future this will be interpreted as an array index, `arr[np.array(seq)]`, which will result either in an error or a different result.\n",
      "  out = out_full[ind]\n",
      "C:\\Users\\imapi\\Anaconda3\\lib\\site-packages\\scipy\\signal\\signaltools.py:1350: FutureWarning: Using a non-tuple sequence for multidimensional indexing is deprecated; use `arr[tuple(seq)]` instead of `arr[seq]`. In the future this will be interpreted as an array index, `arr[np.array(seq)]`, which will result either in an error or a different result.\n",
      "  zf = out_full[ind]\n"
     ]
    }
   ],
   "source": [
    "## Run ECG Analysis on chunks:\n",
    "ecg_chunks = []\n",
    "print('Analyzing {} chunks'.format(len(ecg_data.section.unique())))\n",
    "for section in ecg_data.section.unique():\n",
    "    ecg_section = ecg_data[ecg_data.section == section]\n",
    "    \n",
    "    # Run biosppy ecg analysis\n",
    "    ecg_analysis = ecg.ecg(signal=ecg_section.II, sampling_rate=976.942, show=False)\n",
    "    \n",
    "    ecg_chunks.append(pd.DataFrame(dict(ecg_heart_rate=ecg_analysis['heart_rate'], \n",
    "                                        utc=ecg_analysis['heart_rate_ts'] + ecg_section.utc_adjusted.iloc[0])))\n",
    "\n",
    "# Concatinate results\n",
    "ecg_analysis = pd.concat(ecg_chunks)"
   ]
  },
  {
   "cell_type": "code",
   "execution_count": 4,
   "metadata": {},
   "outputs": [
    {
     "data": {
      "text/plain": [
       "[<matplotlib.lines.Line2D at 0x21380030978>]"
      ]
     },
     "execution_count": 4,
     "metadata": {},
     "output_type": "execute_result"
    },
    {
     "data": {
      "image/png": "[encoded data removed]",
      "text/plain": [
       "<Figure size 1440x720 with 2 Axes>"
      ]
     },
     "metadata": {
      "needs_background": "light"
     },
     "output_type": "display_data"
    }
   ],
   "source": [
    "fig, ax = plt.subplots(2, 1, sharex=True, figsize=(20, 10))\n",
    "\n",
    "# Raw ECG Signal\n",
    "ax[0].plot(ecg_data.utc_adjusted, ecg_data.II)\n",
    "\n",
    "ax[1].plot(ecg_analysis.utc, ecg_analysis.ecg_heart_rate, c='k', label='ECG Heart Rate')\n",
    "# ax[-1].set_xlim([ecg_data.utc_adjusted.min(), ecg_data.utc_adjusted.max()])"
   ]
  },
  {
   "cell_type": "markdown",
   "metadata": {},
   "source": [
    "# Using neurokit.py to analyze the data (RR intervals)"
   ]
  },
  {
   "cell_type": "code",
   "execution_count": 5,
   "metadata": {
    "scrolled": true
   },
   "outputs": [
    {
     "ename": "KeyboardInterrupt",
     "evalue": "",
     "output_type": "error",
     "traceback": [
      "\u001b[1;31m---------------------------------------------------------------------------\u001b[0m",
      "\u001b[1;31mKeyboardInterrupt\u001b[0m                         Traceback (most recent call last)",
      "\u001b[1;32m<ipython-input-5-1d437084d026>\u001b[0m in \u001b[0;36m<module>\u001b[1;34m\u001b[0m\n\u001b[0;32m      1\u001b[0m \u001b[0mecg_sig\u001b[0m \u001b[1;33m=\u001b[0m \u001b[0mecg_data\u001b[0m\u001b[1;33m.\u001b[0m\u001b[0mII\u001b[0m\u001b[1;33m\u001b[0m\u001b[1;33m\u001b[0m\u001b[0m\n\u001b[1;32m----> 2\u001b[1;33m \u001b[0mprocessed_ecg\u001b[0m \u001b[1;33m=\u001b[0m \u001b[0mnk\u001b[0m\u001b[1;33m.\u001b[0m\u001b[0mecg_process\u001b[0m\u001b[1;33m(\u001b[0m\u001b[0mecg_sig\u001b[0m\u001b[1;33m,\u001b[0m \u001b[0mrsp\u001b[0m\u001b[1;33m=\u001b[0m\u001b[1;32mNone\u001b[0m\u001b[1;33m,\u001b[0m \u001b[0msampling_rate\u001b[0m\u001b[1;33m=\u001b[0m\u001b[1;36m976.942\u001b[0m\u001b[1;33m)\u001b[0m\u001b[1;33m\u001b[0m\u001b[1;33m\u001b[0m\u001b[0m\n\u001b[0m\u001b[0;32m      3\u001b[0m \u001b[0mrpeaks\u001b[0m \u001b[1;33m=\u001b[0m \u001b[0mprocessed_ecg\u001b[0m\u001b[1;33m[\u001b[0m\u001b[1;34m'ECG'\u001b[0m\u001b[1;33m]\u001b[0m\u001b[1;33m[\u001b[0m\u001b[1;34m'R_Peaks'\u001b[0m\u001b[1;33m]\u001b[0m\u001b[1;33m.\u001b[0m\u001b[0mtolist\u001b[0m\u001b[1;33m(\u001b[0m\u001b[1;33m)\u001b[0m\u001b[1;33m\u001b[0m\u001b[1;33m\u001b[0m\u001b[0m\n\u001b[0;32m      4\u001b[0m \u001b[0mHR\u001b[0m \u001b[1;33m=\u001b[0m \u001b[0mprocessed_ecg\u001b[0m\u001b[1;33m[\u001b[0m\u001b[1;34m'df'\u001b[0m\u001b[1;33m]\u001b[0m\u001b[1;33m[\u001b[0m\u001b[1;34m'Heart_Rate'\u001b[0m\u001b[1;33m]\u001b[0m\u001b[1;33m.\u001b[0m\u001b[0mtolist\u001b[0m\u001b[1;33m(\u001b[0m\u001b[1;33m)\u001b[0m\u001b[1;33m\u001b[0m\u001b[1;33m\u001b[0m\u001b[0m\n",
      "\u001b[1;32m~\\AppData\\Roaming\\Python\\Python37\\site-packages\\neurokit\\bio\\bio_ecg.py\u001b[0m in \u001b[0;36mecg_process\u001b[1;34m(ecg, rsp, sampling_rate, filter_type, filter_band, filter_frequency, segmenter, quality_model, hrv_features, age, sex, position)\u001b[0m\n\u001b[0;32m    111\u001b[0m                                    \u001b[0mfilter_band\u001b[0m\u001b[1;33m=\u001b[0m\u001b[0mfilter_band\u001b[0m\u001b[1;33m,\u001b[0m\u001b[1;33m\u001b[0m\u001b[1;33m\u001b[0m\u001b[0m\n\u001b[0;32m    112\u001b[0m                                    \u001b[0mfilter_frequency\u001b[0m\u001b[1;33m=\u001b[0m\u001b[0mfilter_frequency\u001b[0m\u001b[1;33m,\u001b[0m\u001b[1;33m\u001b[0m\u001b[1;33m\u001b[0m\u001b[0m\n\u001b[1;32m--> 113\u001b[1;33m                                    segmenter=segmenter)\n\u001b[0m\u001b[0;32m    114\u001b[0m \u001b[1;33m\u001b[0m\u001b[0m\n\u001b[0;32m    115\u001b[0m     \u001b[1;31m# Signal quality\u001b[0m\u001b[1;33m\u001b[0m\u001b[1;33m\u001b[0m\u001b[1;33m\u001b[0m\u001b[0m\n",
      "\u001b[1;32m~\\AppData\\Roaming\\Python\\Python37\\site-packages\\neurokit\\bio\\bio_ecg_preprocessing.py\u001b[0m in \u001b[0;36mecg_preprocess\u001b[1;34m(ecg, sampling_rate, filter_type, filter_band, filter_frequency, filter_order, segmenter)\u001b[0m\n\u001b[0;32m    180\u001b[0m \u001b[1;33m\u001b[0m\u001b[0m\n\u001b[0;32m    181\u001b[0m     \u001b[1;31m# Waves\u001b[0m\u001b[1;33m\u001b[0m\u001b[1;33m\u001b[0m\u001b[1;33m\u001b[0m\u001b[0m\n\u001b[1;32m--> 182\u001b[1;33m     \u001b[0mwaves\u001b[0m \u001b[1;33m=\u001b[0m \u001b[0mecg_wave_detector\u001b[0m\u001b[1;33m(\u001b[0m\u001b[0mecg_df\u001b[0m\u001b[1;33m[\u001b[0m\u001b[1;34m\"ECG_Filtered\"\u001b[0m\u001b[1;33m]\u001b[0m\u001b[1;33m,\u001b[0m \u001b[0mrpeaks\u001b[0m\u001b[1;33m)\u001b[0m\u001b[1;33m\u001b[0m\u001b[1;33m\u001b[0m\u001b[0m\n\u001b[0m\u001b[0;32m    183\u001b[0m     \u001b[0mprocessed_ecg\u001b[0m\u001b[1;33m[\u001b[0m\u001b[1;34m\"ECG\"\u001b[0m\u001b[1;33m]\u001b[0m\u001b[1;33m.\u001b[0m\u001b[0mupdate\u001b[0m\u001b[1;33m(\u001b[0m\u001b[0mwaves\u001b[0m\u001b[1;33m)\u001b[0m\u001b[1;33m\u001b[0m\u001b[1;33m\u001b[0m\u001b[0m\n\u001b[0;32m    184\u001b[0m \u001b[1;33m\u001b[0m\u001b[0m\n",
      "\u001b[1;32m~\\AppData\\Roaming\\Python\\Python37\\site-packages\\neurokit\\bio\\bio_ecg_preprocessing.py\u001b[0m in \u001b[0;36mecg_wave_detector\u001b[1;34m(ecg, rpeaks)\u001b[0m\n\u001b[0;32m    294\u001b[0m \u001b[1;33m\u001b[0m\u001b[0m\n\u001b[0;32m    295\u001b[0m         \u001b[0mepoch\u001b[0m \u001b[1;33m=\u001b[0m \u001b[0mnp\u001b[0m\u001b[1;33m.\u001b[0m\u001b[0marray\u001b[0m\u001b[1;33m(\u001b[0m\u001b[0mecg\u001b[0m\u001b[1;33m)\u001b[0m\u001b[1;33m\u001b[0m\u001b[1;33m\u001b[0m\u001b[0m\n\u001b[1;32m--> 296\u001b[1;33m         \u001b[0mepoch\u001b[0m \u001b[1;33m=\u001b[0m \u001b[0mepoch\u001b[0m\u001b[1;33m[\u001b[0m\u001b[0mint\u001b[0m\u001b[1;33m(\u001b[0m\u001b[0mrpeak\u001b[0m\u001b[1;33m+\u001b[0m\u001b[0mquarter\u001b[0m\u001b[1;33m)\u001b[0m\u001b[1;33m:\u001b[0m\u001b[0mint\u001b[0m\u001b[1;33m(\u001b[0m\u001b[0mrpeak\u001b[0m\u001b[1;33m+\u001b[0m\u001b[0mmiddle\u001b[0m\u001b[1;33m)\u001b[0m\u001b[1;33m]\u001b[0m\u001b[1;33m\u001b[0m\u001b[1;33m\u001b[0m\u001b[0m\n\u001b[0m\u001b[0;32m    297\u001b[0m \u001b[1;33m\u001b[0m\u001b[0m\n\u001b[0;32m    298\u001b[0m         \u001b[1;32mtry\u001b[0m\u001b[1;33m:\u001b[0m\u001b[1;33m\u001b[0m\u001b[1;33m\u001b[0m\u001b[0m\n",
      "\u001b[1;31mKeyboardInterrupt\u001b[0m: "
     ]
    }
   ],
   "source": [
    "ecg_sig = ecg_data.II\n",
    "processed_ecg = nk.ecg_process(ecg_sig, rsp=None, sampling_rate=976.942)\n",
    "rpeaks = processed_ecg['ECG']['R_Peaks'].tolist()\n",
    "HR = processed_ecg['df']['Heart_Rate'].tolist()"
   ]
  },
  {
   "cell_type": "code",
   "execution_count": null,
   "metadata": {
    "scrolled": true
   },
   "outputs": [],
   "source": [
    "rrinterval = []\n",
    "for i in range(len(rpeaks)-1):\n",
    "    rrinterval.append((rpeaks[i+1]-rpeaks[i])/976.942)\n",
    "del(rrinterval[0])\n",
    "rrinterval[0:5]"
   ]
  },
  {
   "cell_type": "markdown",
   "metadata": {
    "scrolled": false
   },
   "source": [
    "# calculate heart rate using rr intervals to examine its accuracy "
   ]
  },
  {
   "cell_type": "code",
   "execution_count": null,
   "metadata": {},
   "outputs": [],
   "source": [
    "hr = []\n",
    "for i in range(len(rrinterval)):\n",
    "    hr.append(60/rrinterval[i])\n",
    "hr[0:5]"
   ]
  },
  {
   "cell_type": "code",
   "execution_count": null,
   "metadata": {},
   "outputs": [],
   "source": [
    "fig, ax = plt.subplots(4, 1, sharex=False, figsize=(20, 10))\n",
    "threshold = [0.6] * len(rrinterval)\n",
    "# Raw ECG Signal\n",
    "ax[0].plot(rrinterval)\n",
    "ax[0].plot(threshold, c='r')\n",
    "ax[0].set_title('RR interval and threshold')\n",
    "ax[1].plot(hr)\n",
    "ax[1].set_ylim([80,200])\n",
    "ax[1].set_title('HR calculated by RR')\n",
    "ax[2].plot(HR)\n",
    "ax[2].set_title('HR calculated by Neurokit')\n",
    "ax[3].plot(ecg_analysis.utc, ecg_analysis.ecg_heart_rate)\n",
    "ax[3].set_title('HR calculated by Biosppy')"
   ]
  },
  {
   "cell_type": "markdown",
   "metadata": {},
   "source": [
    "# OCR on PDF files"
   ]
  },
  {
   "cell_type": "markdown",
   "metadata": {},
   "source": [
    "https://pythontips.com/2016/02/25/ocr-on-pdf-files-using-python/"
   ]
  }
 ],
 "metadata": {
  "kernelspec": {
   "display_name": "Python 3",
   "language": "python",
   "name": "python3"
  },
  "language_info": {
   "codemirror_mode": {
    "name": "ipython",
    "version": 3
   },
   "file_extension": ".py",
   "mimetype": "text/x-python",
   "name": "python",
   "nbconvert_exporter": "python",
   "pygments_lexer": "ipython3",
   "version": "3.7.1"
  }
 },
 "nbformat": 4,
 "nbformat_minor": 2
}
