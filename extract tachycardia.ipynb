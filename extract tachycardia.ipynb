{
 "cells": [
  {
   "cell_type": "markdown",
   "metadata": {},
   "source": [
    "## Figure objects merge solution\n",
    "## Cross correlation"
   ]
  },
  {
   "cell_type": "code",
   "execution_count": 1,
   "metadata": {},
   "outputs": [],
   "source": [
    "import matplotlib\n",
    "matplotlib.use('Agg')\n",
    "#https://stackoverflow.com/questions/37604289/tkinter-tclerror-no-display-name-and-no-display-environment-variable\n",
    "\n",
    "import pandas as pd\n",
    "import numpy as np\n",
    "import matplotlib.pyplot as plt\n",
    "plt.rcParams.update({'figure.max_open_warning': 0})\n",
    "#https://stackoverflow.com/questions/27476642/matplotlib-get-rid-of-max-open-warning-output\n",
    "\n",
    "from biosppy.signals import ecg\n",
    "import os\n",
    "import scipy as sp\n",
    "import datetime"
   ]
  },
  {
   "cell_type": "code",
   "execution_count": 7,
   "metadata": {},
   "outputs": [],
   "source": [
    "os.mkdir('/dscrhome/yq59/data/ECG Strips/70')"
   ]
  },
  {
   "cell_type": "code",
   "execution_count": 2,
   "metadata": {},
   "outputs": [],
   "source": [
    "ecg_data_file = '/dscrhome/yq59/data/iBeat/eplab/Subject70_data.hdf'\n",
    "#ecg_data_file = 'D:/data/iBeat/eplab/Subject44_data.hdf'\n",
    "ecg_data = pd.read_hdf(ecg_data_file,'eplab')"
   ]
  },
  {
   "cell_type": "code",
   "execution_count": 3,
   "metadata": {},
   "outputs": [
    {
     "name": "stdout",
     "output_type": "stream",
     "text": [
      "read file\n"
     ]
    }
   ],
   "source": [
    "print('read file')"
   ]
  },
  {
   "cell_type": "code",
   "execution_count": 4,
   "metadata": {
    "scrolled": true
   },
   "outputs": [],
   "source": [
    "#ecg_data = ecg_data[(ecg_data['utc_adjusted'] < 1708138200)& (ecg_data['utc_adjusted'] > 1708145800)]"
   ]
  },
  {
   "cell_type": "code",
   "execution_count": 6,
   "metadata": {},
   "outputs": [
    {
     "name": "stdout",
     "output_type": "stream",
     "text": [
      "cut data\n"
     ]
    }
   ],
   "source": [
    "print('cut data')"
   ]
  },
  {
   "cell_type": "code",
   "execution_count": 5,
   "metadata": {
    "scrolled": true
   },
   "outputs": [
    {
     "name": "stderr",
     "output_type": "stream",
     "text": [
      "C:\\Users\\admin\\Anaconda3\\lib\\site-packages\\scipy\\signal\\_arraytools.py:45: FutureWarning: Using a non-tuple sequence for multidimensional indexing is deprecated; use `arr[tuple(seq)]` instead of `arr[seq]`. In the future this will be interpreted as an array index, `arr[np.array(seq)]`, which will result either in an error or a different result.\n",
      "  b = a[a_slice]\n",
      "C:\\Users\\admin\\Anaconda3\\lib\\site-packages\\scipy\\signal\\signaltools.py:1341: FutureWarning: Using a non-tuple sequence for multidimensional indexing is deprecated; use `arr[tuple(seq)]` instead of `arr[seq]`. In the future this will be interpreted as an array index, `arr[np.array(seq)]`, which will result either in an error or a different result.\n",
      "  out_full[ind] += zi\n",
      "C:\\Users\\admin\\Anaconda3\\lib\\site-packages\\scipy\\signal\\signaltools.py:1344: FutureWarning: Using a non-tuple sequence for multidimensional indexing is deprecated; use `arr[tuple(seq)]` instead of `arr[seq]`. In the future this will be interpreted as an array index, `arr[np.array(seq)]`, which will result either in an error or a different result.\n",
      "  out = out_full[ind]\n",
      "C:\\Users\\admin\\Anaconda3\\lib\\site-packages\\scipy\\signal\\signaltools.py:1350: FutureWarning: Using a non-tuple sequence for multidimensional indexing is deprecated; use `arr[tuple(seq)]` instead of `arr[seq]`. In the future this will be interpreted as an array index, `arr[np.array(seq)]`, which will result either in an error or a different result.\n",
      "  zf = out_full[ind]\n"
     ]
    }
   ],
   "source": [
    "SR = 976.942\n",
    "\n",
    "out = ecg.ecg(signal=ecg_data.II, sampling_rate=SR,show = False)\n",
    "ecg_sig_II = out['filtered']\n",
    "rpeaks2 = out['rpeaks']\n",
    "\n",
    "ecg_sig_V6 = ecg.ecg(signal=ecg_data.V6, sampling_rate=SR,show = False)['filtered']"
   ]
  },
  {
   "cell_type": "code",
   "execution_count": 8,
   "metadata": {},
   "outputs": [
    {
     "name": "stdout",
     "output_type": "stream",
     "text": [
      "Baseline correction and rpeak done\n"
     ]
    }
   ],
   "source": [
    "print('Baseline correction and rpeak done')"
   ]
  },
  {
   "cell_type": "code",
   "execution_count": 8,
   "metadata": {},
   "outputs": [],
   "source": [
    "rrinterval = []\n",
    "for i in range(len(rpeaks2)-1):\n",
    "    rrinterval.append((rpeaks2[i+1]-rpeaks2[i])/SR)\n",
    "#print(len(rrinterval))"
   ]
  },
  {
   "cell_type": "code",
   "execution_count": 9,
   "metadata": {},
   "outputs": [],
   "source": [
    "thold_num = 5\n",
    "index = []\n",
    "for i in range(len(rrinterval)-thold_num):\n",
    "    if rrinterval[i] < 0.6 and rrinterval[i+1] < 0.6 and rrinterval[i+2] < 0.6 and rrinterval[i+3] < 0.6 and rrinterval[i+4] < 0.6:\n",
    "        index.append(i)"
   ]
  },
  {
   "cell_type": "code",
   "execution_count": 10,
   "metadata": {
    "scrolled": true
   },
   "outputs": [
    {
     "name": "stdout",
     "output_type": "stream",
     "text": [
      "21 tachycardia events extracted\n"
     ]
    }
   ],
   "source": [
    "import more_itertools as mit\n",
    "grouped_index = [list(group) for group in mit.consecutive_groups(index)]\n",
    "#grouped_index[0:5]\n",
    "print(len(grouped_index) , 'tachycardia events extracted')"
   ]
  },
  {
   "cell_type": "code",
   "execution_count": 11,
   "metadata": {},
   "outputs": [],
   "source": [
    "begin_index = []\n",
    "end_index = []\n",
    "for i in range(len(grouped_index)):\n",
    "    begin_index.append(grouped_index[i][0])\n",
    "    end_index.append(grouped_index[i][-1] + thold_num)"
   ]
  },
  {
   "cell_type": "code",
   "execution_count": 12,
   "metadata": {},
   "outputs": [
    {
     "name": "stdout",
     "output_type": "stream",
     "text": [
      "indices ready\n"
     ]
    }
   ],
   "source": [
    "print('indices ready')"
   ]
  },
  {
   "cell_type": "code",
   "execution_count": 31,
   "metadata": {
    "scrolled": false
   },
   "outputs": [],
   "source": [
    "ecg_sig = {'II':ecg_sig_II,'V6':ecg_sig_V6}\n",
    "\n",
    "major_ticks = np.arange(0, 10, 1)\n",
    "minor_ticks = np.arange(0, 10, 0.2)\n",
    "\n",
    "from matplotlib.collections import LineCollection\n",
    "from matplotlib.colors import ListedColormap, BoundaryNorm\n",
    "\n",
    "for sig in ecg_sig:\n",
    "    \n",
    "    for i in range(len(begin_index)):\n",
    "    \n",
    "    # To plot same line with different colors. https://matplotlib.org/1.4.1/examples/pylab_examples/multicolored_line.html\n",
    "    # Use locals() function to set variable names iteratively, such as: tachy_begin1, tachy_begin2, ...\n",
    "    # https://docs.python.org/3/library/functions.html#locals\n",
    "    # Note that the ith RRinterval is calculated by (i+1)th rpeak minus the ith rpeak.\n",
    "    # Tachycardia initiates at 5sec location.\n",
    "        \n",
    "        locals()['tachy_begin'+str(i)] = ecg_sig[sig][(rpeaks2[begin_index[i]] - round(5*SR)):(rpeaks2[begin_index[i]] + round(5*SR))]\n",
    "\n",
    "        t = np.linspace(0,10,num = round(10*SR) + 1)\n",
    "        cmap = ListedColormap(['b', 'r', 'b'])\n",
    "\n",
    "        locals()['cutpoint_b'+str(i)] = (rpeaks2[end_index[i]] - rpeaks2[begin_index[i]])/SR + 5\n",
    "        locals()['norm_b'+str(i)] = BoundaryNorm([0, 5, locals()['cutpoint_b'+str(i)], 10], cmap.N)\n",
    "        locals()['points_b'+str(i)] = np.array([t, locals()['tachy_begin'+str(i)]]).T.reshape(-1, 1, 2)\n",
    "        locals()['segments_b'+str(i)] = np.concatenate([locals()['points_b'+str(i)][:-1], locals()['points_b'+str(i)][1:]], axis=1)\n",
    "\n",
    "        locals()['lc_b'+str(i)] = LineCollection(locals()['segments_b'+str(i)], cmap=cmap, norm=locals()['norm_b'+str(i)])\n",
    "        locals()['lc_b'+str(i)].set_array(t)\n",
    "\n",
    "        locals()['fig_b'+str(i)] = plt.figure(figsize = (20,2))\n",
    "        locals()['fig_b'+str(i)].gca().add_collection(locals()['lc_b'+str(i)])         # GetCurrentAxis\n",
    "\n",
    "        locals()['ax_b'+str(i)] = locals()['fig_b'+str(i)].add_subplot(1, 1, 1)\n",
    "\n",
    "        locals()['ax_b'+str(i)].set_xticks(major_ticks)\n",
    "        locals()['ax_b'+str(i)].set_xticks(minor_ticks, minor=True)\n",
    "        locals()['ax_b'+str(i)].grid(which='minor', alpha=0.5, linestyle='--')\n",
    "        locals()['ax_b'+str(i)].grid(which='major', alpha=1, linestyle='-')\n",
    "        \n",
    "        plt.ylim(min(locals()['tachy_begin'+str(i)])-0.1, max(locals()['tachy_begin'+str(i)])+0.1)    \n",
    "        plt.xlim(0,10)\n",
    "        plt.xlabel('{}_{}_{}_begin@{}'.format(70, i+1, sig,datetime.datetime.fromtimestamp(ecg_data.iloc[rpeaks2[begin_index[i]]]['utc_adjusted']).strftime(\"%Y-%m-%d %H:%M:%S\")) + '    Time/sec')\n",
    "        plt.ylabel('Adjusted_ECG_amplitude_{}'.format(sig))\n",
    "        \n",
    "          #Save subplots to *.png\n",
    "        locals()['bbox_b'+str(i)] = locals()['ax_b'+str(i)].get_tightbbox(locals()['fig_b'+str(i)].canvas.get_renderer())\n",
    "        locals()['fig_b'+str(i)].savefig(\"/dscrhome/yq59/data/ECG Strips/70/70_{}_{}_begin.png\".format(i+1, sig), \n",
    "                   bbox_inches=locals()['bbox_b'+str(i)].transformed(locals()['fig_b'+str(i)].dpi_scale_trans.inverted()))\n",
    "        \n",
    "        plt.close()\n"
   ]
  },
  {
   "cell_type": "code",
   "execution_count": 15,
   "metadata": {},
   "outputs": [
    {
     "name": "stdout",
     "output_type": "stream",
     "text": [
      "begin figure saved\n"
     ]
    }
   ],
   "source": [
    "print('begin figure saved')"
   ]
  },
  {
   "cell_type": "code",
   "execution_count": 32,
   "metadata": {},
   "outputs": [],
   "source": [
    "for sig in ecg_sig:\n",
    "    \n",
    "    for i in range(len(begin_index)):\n",
    "\n",
    "        locals()['tachy_end'+str(i)] = ecg_sig[sig][(rpeaks2[end_index[i]] - round(5*SR)):(rpeaks2[end_index[i]] + round(5*SR))]\n",
    "\n",
    "        t = np.linspace(0,10,num = round(10*SR) + 1)\n",
    "\n",
    "        locals()['cutpoint_e'+str(i)] = 5 - (rpeaks2[end_index[i]] - rpeaks2[begin_index[i]])/SR \n",
    "\n",
    "        cmap = ListedColormap(['b', 'r', 'b'])\n",
    "        locals()['norm_e'+str(i)] = BoundaryNorm([0, locals()['cutpoint_e'+str(i)], 5, 10], cmap.N)\n",
    "\n",
    "        locals()['points_e'+str(i)] = np.array([t, locals()['tachy_end'+str(i)]]).T.reshape(-1, 1, 2)\n",
    "        locals()['segments_e'+str(i)] = np.concatenate([locals()['points_e'+str(i)][:-1], locals()['points_e'+str(i)][1:]], axis=1)\n",
    "\n",
    "        locals()['lc_e'+str(i)] = LineCollection(locals()['segments_e'+str(i)], cmap=cmap, norm=locals()['norm_e'+str(i)])\n",
    "        locals()['lc_e'+str(i)].set_array(t)\n",
    "\n",
    "        locals()['fig_e'+str(i)] = plt.figure(figsize = (20,2))\n",
    "        locals()['ax_e'+str(i)] = locals()['fig_e'+str(i)].add_subplot(1, 1, 1)\n",
    "\n",
    "        locals()['fig_e'+str(i)].gca().add_collection(locals()['lc_e'+str(i)])\n",
    "\n",
    "        locals()['ax_e'+str(i)].set_xticks(major_ticks)\n",
    "        locals()['ax_e'+str(i)].set_xticks(minor_ticks, minor=True)\n",
    "        locals()['ax_e'+str(i)].grid(which='minor', alpha=0.5, linestyle='--')\n",
    "        locals()['ax_e'+str(i)].grid(which='major', alpha=1, linestyle='-')\n",
    "\n",
    "        plt.ylim(min(locals()['tachy_end'+str(i)])-0.1, max(locals()['tachy_end'+str(i)])+0.1)     \n",
    "        plt.xlim(0,10)\n",
    "        plt.xlabel('{}_{}_{}_end@{}'.format(70, i+1, sig, datetime.datetime.fromtimestamp(ecg_data.iloc[rpeaks2[end_index[i]]]['utc_adjusted']).strftime(\"%Y-%m-%d %H:%M:%S\")) + '    Time/sec')\n",
    "        plt.ylabel('Adjusted_ECG_amplitude_{}'.format(sig))\n",
    "        \n",
    "        locals()['bbox_e'+str(i)] = locals()['ax_e'+str(i)].get_tightbbox(locals()['fig_e'+str(i)].canvas.get_renderer())\n",
    "        locals()['fig_e'+str(i)].savefig(\"/dscrhome/yq59/data/ECG Strips/70/70_{}_{}_end.png\".format(i+1, sig),\n",
    "                                         bbox_inches=locals()['bbox_e'+str(i)].transformed(locals()['fig_e'+str(i)].dpi_scale_trans.inverted()))\n",
    "       \n",
    "        plt.close()  \n",
    "        #Close figure in the loop.\n"
   ]
  },
  {
   "cell_type": "code",
   "execution_count": 17,
   "metadata": {},
   "outputs": [
    {
     "name": "stdout",
     "output_type": "stream",
     "text": [
      "end figure saved\n"
     ]
    }
   ],
   "source": [
    "print('end figure saved')"
   ]
  },
  {
   "cell_type": "code",
   "execution_count": 18,
   "metadata": {},
   "outputs": [],
   "source": [
    "# fig, ax = plt.subplots(len(begin_index), 1, sharex=False, figsize=(20, 10))\n",
    "for i in range(len(begin_index)):\n",
    "    locals()['rr'+str(i)] = []\n",
    "    locals()['rr'+str(i)].append(rrinterval[begin_index[i]:end_index[i]])\n",
    "    locals()['bpm'+str(i)] = []\n",
    "    \n",
    "    for k in locals()['rr'+str(i)][0]:\n",
    "        locals()['bpm'+str(i)].append(60/k)\n",
    "        \n",
    "    locals()['time'+str(i)] = (rpeaks2[end_index[i]] - rpeaks2[begin_index[i]])/SR\n",
    "    \n",
    "    locals()['t'+str(i)] = np.linspace(0,locals()['time'+str(i)], num = len(locals()['rr'+str(i)][0]))\n",
    "    \n",
    "    locals()['fig'+str(i)] = plt.figure(figsize = (20,2))\n",
    "    locals()['ax'+str(i)] = locals()['fig'+str(i)].add_subplot(1, 1, 1)\n",
    "    \n",
    "    locals()['ax'+str(i)].plot(locals()['t'+str(i)] , locals()['bpm'+str(i)])\n",
    "    \n",
    "#     ax[i].plot(locals()['t'+str(i)] , locals()['rr'+str(i)][0])\n",
    "    plt.xlabel('{}_{}_BPM'.format(70,i+1) + '    Time/sec')\n",
    "    plt.ylabel('beats per minute')\n",
    "    \n",
    "    locals()['bbox'+str(i)] = locals()['ax'+str(i)].get_tightbbox(locals()['fig'+str(i)].canvas.get_renderer())\n",
    "    locals()['fig'+str(i)].savefig(\"/dscrhome/yq59/data/ECG Strips/70/70_{}_RRinterval.png\".format(i+1),\n",
    "              bbox_inches=locals()['bbox'+str(i)].transformed(locals()['fig'+str(i)].dpi_scale_trans.inverted()))\n",
    "    \n",
    "    plt.close()  #Close figure in the loop."
   ]
  },
  {
   "cell_type": "code",
   "execution_count": 19,
   "metadata": {},
   "outputs": [
    {
     "name": "stdout",
     "output_type": "stream",
     "text": [
      "RRintv figure saved\n"
     ]
    }
   ],
   "source": [
    "print('RRintv figure saved')"
   ]
  },
  {
   "cell_type": "code",
   "execution_count": 20,
   "metadata": {},
   "outputs": [],
   "source": [
    "\n",
    "min_index = []\n",
    "# minimum RR interval after tachycardia begins, begin_index[i] + min_index[i] + 1\n",
    "\n",
    "for sig in ecg_sig:\n",
    "\n",
    "    for i in range(len(begin_index)):\n",
    "\n",
    "        min_index.append(np.argmin(locals()['rr'+str(i)])) \n",
    "        t = np.linspace(0,10,num = round(10*SR) + 1)\n",
    "\n",
    "        locals()['tachy_mid'+str(i)] = ecg_sig[sig][(rpeaks2[begin_index[i] + min_index[i] + 1] - round(5*SR)):(rpeaks2[begin_index[i] + min_index[i] + 1] + round(5*SR))]\n",
    "\n",
    "        locals()['left_cutpoint'+str(i)] = 5 - (rpeaks2[begin_index[i] + min_index[i] + 1] - rpeaks2[begin_index[i]])/SR \n",
    "        locals()['right_cutpoint'+str(i)] = (rpeaks2[end_index[i]] - rpeaks2[begin_index[i] + min_index[i] + 1])/SR + 5\n",
    "\n",
    "        #ax[i].plot(t, locals()['tachy_mid'+str(i)])\n",
    "\n",
    "        cmap = ListedColormap(['b', 'r', 'b'])\n",
    "        locals()['norm'+str(i)] = BoundaryNorm([0, locals()['left_cutpoint'+str(i)], locals()['right_cutpoint'+str(i)], 10], cmap.N)\n",
    "\n",
    "        locals()['points'+str(i)] = np.array([t, locals()['tachy_mid'+str(i)]]).T.reshape(-1, 1, 2)\n",
    "        locals()['segments'+str(i)] = np.concatenate([locals()['points'+str(i)][:-1], locals()['points'+str(i)][1:]], axis=1)\n",
    "\n",
    "        locals()['lc'+str(i)] = LineCollection(locals()['segments'+str(i)], cmap=cmap, norm=locals()['norm'+str(i)])\n",
    "        locals()['lc'+str(i)].set_array(t)\n",
    "\n",
    "        locals()['fig'+str(i)] = plt.figure(figsize = (20,2))\n",
    "        locals()['ax'+str(i)] = locals()['fig'+str(i)].add_subplot(1, 1, 1)\n",
    "\n",
    "        locals()['fig'+str(i)].gca().add_collection(locals()['lc'+str(i)])\n",
    "\n",
    "        locals()['ax'+str(i)].set_xticks(major_ticks)\n",
    "        locals()['ax'+str(i)].set_xticks(minor_ticks, minor=True)\n",
    "        locals()['ax'+str(i)].grid(which='minor', alpha=0.5, linestyle='--')\n",
    "        locals()['ax'+str(i)].grid(which='major', alpha=1, linestyle='-')\n",
    "\n",
    "        plt.ylim(min(locals()['tachy_mid'+str(i)])-0.1, max(locals()['tachy_mid'+str(i)])+0.1)    \n",
    "        plt.xlim(0,10)\n",
    "        plt.ylabel('Adjusted_ECG_amplitude_{}'.format(sig))\n",
    "        plt.xlabel('70_{}_{}_fastestHR@{}'.format(i+1, sig, \n",
    "                                               datetime.datetime.fromtimestamp(ecg_data.iloc[rpeaks2[begin_index[i] + min_index[i] + 1]]['utc_adjusted']).strftime(\"%Y-%m-%d %H:%M:%S\")) + '    Time/sec')\n",
    "\n",
    "        #Save subplots to png, \n",
    "        locals()['bbox'+str(i)] = locals()['ax'+str(i)].get_tightbbox(locals()['fig'+str(i)].canvas.get_renderer())\n",
    "        locals()['fig'+str(i)].savefig(\"/dscrhome/yq59/data/ECG Strips/70/70_{}_{}_fastestHR.png\".format(i+1, sig),\n",
    "                  bbox_inches=locals()['bbox'+str(i)].transformed(locals()['fig'+str(i)].dpi_scale_trans.inverted()))\n",
    "        \n",
    "        plt.close()  #Close figure in the loop."
   ]
  },
  {
   "cell_type": "code",
   "execution_count": 21,
   "metadata": {},
   "outputs": [
    {
     "name": "stdout",
     "output_type": "stream",
     "text": [
      "fastest HR figure saved\n"
     ]
    }
   ],
   "source": [
    "print('fastest HR figure saved')"
   ]
  }
 ],
 "metadata": {
  "kernelspec": {
   "display_name": "Python 3",
   "language": "python",
   "name": "python3"
  },
  "language_info": {
   "codemirror_mode": {
    "name": "ipython",
    "version": 3
   },
   "file_extension": ".py",
   "mimetype": "text/x-python",
   "name": "python",
   "nbconvert_exporter": "python",
   "pygments_lexer": "ipython3",
   "version": "3.7.1"
  }
 },
 "nbformat": 4,
 "nbformat_minor": 2
}
