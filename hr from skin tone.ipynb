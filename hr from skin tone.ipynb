{
 "cells": [
  {
   "cell_type": "code",
   "execution_count": 1,
   "metadata": {},
   "outputs": [],
   "source": [
    "import numpy as np\n",
    "import pandas as pd\n",
    "import matplotlib\n",
    "matplotlib.use('Agg')\n",
    "\n",
    "import matplotlib.pyplot as plt\n",
    "from scipy.ndimage import gaussian_filter\n",
    "import os\n",
    "from datetime import datetime\n",
    "from sklearn import preprocessing"
   ]
  },
  {
   "cell_type": "code",
   "execution_count": 2,
   "metadata": {
    "scrolled": true
   },
   "outputs": [],
   "source": [
    "ecg_start_time = pd.read_csv(\"F:\\\\360MoveData\\\\Users\\\\admin\\\\Desktop\\\\ECG and Apple watch HR for DTW\\\\Raw\\\\skintonestudyTIMES.csv\")"
   ]
  },
  {
   "cell_type": "code",
   "execution_count": 3,
   "metadata": {
    "scrolled": true
   },
   "outputs": [
    {
     "data": {
      "text/plain": [
       "38"
      ]
     },
     "execution_count": 3,
     "metadata": {},
     "output_type": "execute_result"
    }
   ],
   "source": [
    "Subject_ID = []\n",
    "for i in range(1,10):\n",
    "    Subject_ID.append('19-00' + str(i) + '\\\\')\n",
    "for i in range(10,57):\n",
    "    Subject_ID.append('19-0' + str(i) + '\\\\')\n",
    "    \n",
    "[Subject_ID.remove(id) for id in ['19-001\\\\','19-002\\\\','19-003\\\\','19-025\\\\','19-016\\\\','19-017\\\\','19-026\\\\','19-039\\\\','19-040\\\\','19-042\\\\','19-045\\\\','19-046\\\\','19-055\\\\','19-056\\\\','19-019\\\\','19-050\\\\','19-049\\\\','19-051\\\\']]\n",
    "# remove some subjects due to the bad quality\n",
    "\n",
    "len(Subject_ID)"
   ]
  },
  {
   "cell_type": "code",
   "execution_count": 4,
   "metadata": {},
   "outputs": [],
   "source": [
    "file_type = ['HR.csv','Apple Watch.csv','HRT.csv']\n",
    "path = 'F:\\\\360MoveData\\\\Users\\\\admin\\\\Desktop\\\\ECG and Apple watch HR for DTW\\\\Raw\\\\'\n",
    "# Create folders for subjects\n",
    "# for i in Subject_ID:\n",
    "#     try:\n",
    "#         os.mkdir(path + i)\n",
    "#     except OSError:\n",
    "#         print (\"Creation of the directory %s failed\" % i)"
   ]
  },
  {
   "cell_type": "markdown",
   "metadata": {},
   "source": [
    "#### Downloaded from Skin Tone Equity Subjects folder"
   ]
  },
  {
   "cell_type": "code",
   "execution_count": 5,
   "metadata": {
    "scrolled": true
   },
   "outputs": [
    {
     "name": "stdout",
     "output_type": "stream",
     "text": [
      "ok19-004\\\n",
      "ok19-005\\\n",
      "ok19-006\\\n",
      "ok19-007\\\n",
      "ok19-008\\\n",
      "ok19-009\\\n",
      "ok19-010\\\n",
      "ok19-011\\\n",
      "ok19-012\\\n",
      "ok19-013\\\n",
      "ok19-014\\\n",
      "ok19-015\\\n",
      "ok19-018\\\n",
      "ok19-020\\\n",
      "ok19-021\\\n",
      "ok19-022\\\n",
      "ok19-023\\\n",
      "ok19-024\\\n",
      "ok19-027\\\n",
      "ok19-028\\\n",
      "ok19-029\\\n",
      "ok19-030\\\n",
      "ok19-031\\\n",
      "ok19-032\\\n",
      "ok19-033\\\n",
      "ok19-034\\\n",
      "ok19-035\\\n",
      "ok19-036\\\n",
      "ok19-037\\\n",
      "ok19-038\\\n",
      "ok19-041\\\n",
      "ok19-043\\\n",
      "ok19-044\\\n",
      "ok19-047\\\n",
      "ok19-048\\\n",
      "ok19-052\\\n",
      "ok19-053\\\n",
      "ok19-054\\\n"
     ]
    }
   ],
   "source": [
    "for i in Subject_ID:\n",
    "    if i == '19-028\\\\' or i == '19-051\\\\' or i == '19-052\\\\':\n",
    "        offset = 200\n",
    "    else:\n",
    "        offset = 60\n",
    "    \n",
    "    ecg_path = path + i + file_type[0]\n",
    "    aw_path = path + i + file_type[1]\n",
    "    ecg_time_path = path + i + file_type[2]\n",
    "\n",
    "    ecg = pd.read_csv(ecg_path)\n",
    "    aw = pd.read_csv(aw_path)\n",
    "    ecg_time = pd.read_csv(ecg_time_path)\n",
    "\n",
    "    ecg_ts = ecg_start_time.loc[(ecg_start_time['Subject ID']== i.replace(\"\\\\\",\"\") )]['Baseline Start 1'].values[0].split()[0].strip() + str(' 00:00:00')\n",
    "    date_time_obj = datetime.strptime(ecg_ts, '%m/%d/%Y %H:%M:%S')\n",
    "    ecg_ts = datetime.timestamp(date_time_obj)\n",
    "\n",
    "    # https://www.epochconverter.com/ \n",
    "    # Remember change GMT to local time\n",
    "    date_time_obj = datetime.strptime(aw.columns[1].strip(), '%Y-%m-%d %H:%M:%S')\n",
    "    aw_ts = datetime.timestamp(date_time_obj)\n",
    "    # time stamp start at 00:00:00 am at that day.\n",
    "    ecg['time'] = ecg_time.values + ecg_ts\n",
    "\n",
    "    # Cut the first 6 rows because they contain ecperiment information: subject_id, start time, etc.\n",
    "    aw = aw.drop(range(6))\n",
    "\n",
    "    temp = []\n",
    "    for j in aw['Workout date'].values:\n",
    "        temp.append(float(j) + aw_ts)\n",
    "    aw['time'] = temp\n",
    "\n",
    "    aw = aw.drop(columns = ['Workout date'])\n",
    "    ecg.columns = ['HR','time']\n",
    "    aw.columns = ['HR','time']\n",
    "\n",
    "    # Cut time\n",
    "    ts = max(float(aw[:1]['time'].values), float(ecg[:1]['time'].values)) \n",
    "    ts = ts + offset\n",
    "    # Manually set start time as 1 minute after the beginning of the procedure to avoid the instablity.\n",
    "    te = min(float(aw[-1:]['time'].values), float(ecg[-1:]['time'].values))\n",
    "\n",
    "    # Cut the data\n",
    "    hr_ECG = ecg.loc[(ecg['time'] >= ts) & (ecg['time'] <= te)]['HR'].values\n",
    "    hr_aw = aw.loc[(aw['time'] >= ts) & (aw['time'] <= te)]['HR'].values\n",
    "    t_ECG = ecg.loc[(ecg['time'] >= ts) & (ecg['time'] <= te)]['time'].values\n",
    "    t_aw = aw.loc[(aw['time'] >= ts) & (aw['time'] <= te)]['time'].values\n",
    "\n",
    "    # Set the start time to 0.\n",
    "    t_ECG = t_ECG - min(t_ECG)\n",
    "    t_aw = t_aw - min(t_aw)\n",
    "\n",
    "    # convert string to float\n",
    "    hr_AW = [] \n",
    "    for k in hr_aw:\n",
    "        hr_AW.append(float(k))\n",
    "\n",
    "    # Gaussian smooth\n",
    "    hr_ECG_smooth = gaussian_filter(hr_ECG, sigma=15)\n",
    "    hr_AW_smooth = gaussian_filter(hr_AW, sigma=3)\n",
    "\n",
    "    # Normalize the heart rate data to mean = 0, std = 1.\n",
    "    hr_ECG_norm = preprocessing.scale(hr_ECG_smooth)\n",
    "    hr_AW_norm = preprocessing.scale(hr_AW_smooth)\n",
    "\n",
    "    # Save the data to *.csv files\n",
    "    ECGdata = {'t': t_ECG, \n",
    "    'q': hr_ECG_norm \n",
    "    }\n",
    "    ecg_df = pd.DataFrame(ECGdata)\n",
    "\n",
    "    PPGdata = {'t': t_aw, \n",
    "    'q': hr_AW_norm\n",
    "    }\n",
    "    ppg_df = pd.DataFrame(PPGdata)\n",
    "    \n",
    "    plt.plot(t_ECG,hr_ECG_norm,color='black')\n",
    "    plt.plot(t_aw,hr_AW_norm,color='blue')\n",
    "    plt.title(i.replace(\"\\\\\",\"\")) \n",
    "    plt.savefig(path+'figures\\\\'+i.replace(\"\\\\\",\"\"))\n",
    "    plt.close()\n",
    "    \n",
    "    print('ok' + i)\n",
    "    ecg_df.to_csv(path.replace('Raw\\\\','Preprocessed\\\\') + i.replace('\\\\','') + 'ECG.csv')\n",
    "    ppg_df.to_csv(path.replace('Raw\\\\','Preprocessed\\\\') + i.replace('\\\\','') + 'AW.csv')"
   ]
  },
  {
   "cell_type": "markdown",
   "metadata": {},
   "source": [
    "1. No gound truth of alignment in real life signals.(a figure showing edtw outperforms others?)\n",
    "2. Waiting for the data\n",
    "3. Wrap it as a opensource tool.\n",
    "4 Aoi for 1:1"
   ]
  }
 ],
 "metadata": {
  "kernelspec": {
   "display_name": "Python 3",
   "language": "python",
   "name": "python3"
  },
  "language_info": {
   "codemirror_mode": {
    "name": "ipython",
    "version": 3
   },
   "file_extension": ".py",
   "mimetype": "text/x-python",
   "name": "python",
   "nbconvert_exporter": "python",
   "pygments_lexer": "ipython3",
   "version": "3.7.1"
  }
 },
 "nbformat": 4,
 "nbformat_minor": 2
}
